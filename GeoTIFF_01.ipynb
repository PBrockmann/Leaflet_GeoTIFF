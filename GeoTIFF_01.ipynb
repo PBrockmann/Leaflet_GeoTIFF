{
 "cells": [
  {
   "cell_type": "markdown",
   "metadata": {},
   "source": [
    "#### Test on convert a netCDF file to a GeoTIFF"
   ]
  },
  {
   "cell_type": "markdown",
   "metadata": {
    "collapsed": true
   },
   "source": [
    "#### To test then in a Leaflet map\n",
    "\n",
    " * https://github.com/stuartmatthews/leaflet-geotiff\n",
    " * https://mygeodata.cloud/converter/"
   ]
  },
  {
   "cell_type": "code",
   "execution_count": 1,
   "metadata": {},
   "outputs": [],
   "source": [
    "import numpy as np\n",
    "import netCDF4\n",
    "from osgeo import osr\n",
    "from osgeo import gdal"
   ]
  },
  {
   "cell_type": "code",
   "execution_count": 2,
   "metadata": {},
   "outputs": [
    {
     "data": {
      "text/plain": [
       "True"
      ]
     },
     "execution_count": 2,
     "metadata": {},
     "output_type": "execute_result"
    }
   ],
   "source": [
    "# \n",
    "import os\n",
    "'GDAL_DATA' in os.environ "
   ]
  },
  {
   "cell_type": "code",
   "execution_count": 3,
   "metadata": {},
   "outputs": [
    {
     "data": {
      "text/plain": [
       "[u'FNOCX', u'FNOCY', u'TIME', u'UWND']"
      ]
     },
     "execution_count": 3,
     "metadata": {},
     "output_type": "execute_result"
    }
   ],
   "source": [
    "# temp.nc has been produced from levitus_climatology with ferret\n",
    "# yes? use levitus_climatology\n",
    "# yes? save/clobber/file=temp.nc temp[k=1]\n",
    "\n",
    "infile = 'uwnd.nc'\n",
    "\n",
    "ncfile = netCDF4.Dataset(infile, 'r')\n",
    "ncfile.variables.keys()"
   ]
  },
  {
   "cell_type": "code",
   "execution_count": 4,
   "metadata": {},
   "outputs": [
    {
     "data": {
      "text/plain": [
       "[u'FNOCX', u'FNOCY', u'TIME']"
      ]
     },
     "execution_count": 4,
     "metadata": {},
     "output_type": "execute_result"
    }
   ],
   "source": [
    "dims = ncfile.dimensions.keys()\n",
    "dims"
   ]
  },
  {
   "cell_type": "code",
   "execution_count": 5,
   "metadata": {},
   "outputs": [
    {
     "name": "stdout",
     "output_type": "stream",
     "text": [
      "(73, 144)\n"
     ]
    }
   ],
   "source": [
    "lon = ncfile.variables[dims[0]][:]\n",
    "lat = ncfile.variables[dims[1]][:]\n",
    "var = ncfile.variables['UWND'][0][:]\n",
    "\n",
    "print var.shape"
   ]
  },
  {
   "cell_type": "code",
   "execution_count": 6,
   "metadata": {},
   "outputs": [
    {
     "name": "stdout",
     "output_type": "stream",
     "text": [
      "73 144\n",
      "18.75 378.75 -91.2328767123 91.2328767123\n",
      "2.5 2.46575342466\n"
     ]
    }
   ],
   "source": [
    "nrows,ncols = np.shape(var)\n",
    "xres = 360./ncols\n",
    "yres = 180./nrows\n",
    "\n",
    "# Retrieve edges considering regular axis\n",
    "xmin,xmax,ymin,ymax = [lon[0]-xres/2,lon[-1]+xres/2,lat[0]-yres/2,lat[-1]+yres/2]\n",
    "\n",
    "print nrows,ncols\n",
    "print xmin,xmax,ymin,ymax\n",
    "print xres, yres"
   ]
  },
  {
   "cell_type": "code",
   "execution_count": 24,
   "metadata": {},
   "outputs": [],
   "source": [
    "# https://stackoverflow.com/questions/43254024/extracting-specific-netcdf-info-and-converting-to-geotiff-in-python"
   ]
  },
  {
   "cell_type": "code",
   "execution_count": 7,
   "metadata": {},
   "outputs": [],
   "source": [
    "outfile = 'uwnd.tiff'\n",
    "\n",
    "driver = gdal.GetDriverByName('GTiff')\n",
    "\n",
    "dst_ds = driver.Create(outfile, ncols, nrows, \n",
    "                       bands=1, eType=gdal.GDT_Float32, options=['COMPRESS=LZW'])\n",
    "\n",
    "geotransform=(xmin,xres,0,ymax,0,-yres)   \n",
    "# That's (top left x, w-e pixel resolution, rotation (0 if North is up), \n",
    "#         top left y, rotation (0 if North is up), n-s pixel resolution)\n",
    "\n",
    "dst_ds.SetGeoTransform(geotransform)     # specify coords\n",
    "srs = osr.SpatialReference()             # establish encoding\n",
    "srs.ImportFromEPSG(4326)                 # WGS84 lat/long\n",
    "dst_ds.SetProjection(srs.ExportToWkt())   # export coords to file\n",
    "\n",
    "dst_ds.SetMetadata({'key1': '1', 'key2': 'yada'})\n",
    "\n",
    "band = dst_ds.GetRasterBand(1)\n",
    "band.WriteArray(var[::-1,:])            # reverse the array\n",
    "\n",
    "band.SetDescription('blabla')\n",
    "band.SetMetadata({'name': 'AAAAAA', 'key2': 'BBBBB'})\n",
    "band.SetNoDataValue(-1E10)\n",
    "                \n",
    "# Close properly the dataset\n",
    "dst_ds = None"
   ]
  },
  {
   "cell_type": "code",
   "execution_count": 8,
   "metadata": {},
   "outputs": [
    {
     "name": "stdout",
     "output_type": "stream",
     "text": [
      "GEOGCS[\"WGS 84\",\n",
      "    DATUM[\"WGS_1984\",\n",
      "        SPHEROID[\"WGS 84\",6378137,298.257223563,\n",
      "            AUTHORITY[\"EPSG\",\"7030\"]],\n",
      "        AUTHORITY[\"EPSG\",\"6326\"]],\n",
      "    PRIMEM[\"Greenwich\",0,\n",
      "        AUTHORITY[\"EPSG\",\"8901\"]],\n",
      "    UNIT[\"degree\",0.0174532925199433,\n",
      "        AUTHORITY[\"EPSG\",\"9122\"]],\n",
      "    AUTHORITY[\"EPSG\",\"4326\"]]\n"
     ]
    }
   ],
   "source": [
    "test1 = osr.SpatialReference()\n",
    "test1.ImportFromEPSG(4326)\n",
    "\n",
    "print test1.ExportToPrettyWkt()"
   ]
  },
  {
   "cell_type": "code",
   "execution_count": 9,
   "metadata": {},
   "outputs": [
    {
     "name": "stdout",
     "output_type": "stream",
     "text": [
      "Driver: GTiff/GeoTIFF\n",
      "Files: uwnd.tiff\n",
      "Size is 144, 73\n",
      "Coordinate System is:\n",
      "GEOGCS[\"WGS 84\",\n",
      "    DATUM[\"WGS_1984\",\n",
      "        SPHEROID[\"WGS 84\",6378137,298.257223563,\n",
      "            AUTHORITY[\"EPSG\",\"7030\"]],\n",
      "        AUTHORITY[\"EPSG\",\"6326\"]],\n",
      "    PRIMEM[\"Greenwich\",0],\n",
      "    UNIT[\"degree\",0.0174532925199433],\n",
      "    AUTHORITY[\"EPSG\",\"4326\"]]\n",
      "Origin = (18.750000000000000,91.232876712328761)\n",
      "Pixel Size = (2.500000000000000,-2.465753424657534)\n",
      "Metadata:\n",
      "  AREA_OR_POINT=Area\n",
      "  key1=1\n",
      "  key2=yada\n",
      "Image Structure Metadata:\n",
      "  COMPRESSION=LZW\n",
      "  INTERLEAVE=BAND\n",
      "Corner Coordinates:\n",
      "Upper Left  (      18.750,      91.233) ( 18d45' 0.00\"E, 91d13'58.36\"N)\n",
      "Lower Left  (  18.7500000, -88.7671233) ( 18d45' 0.00\"E, 88d46' 1.64\"S)\n",
      "Upper Right (     378.750,      91.233) (Invalid angle, 91d13'58.36\"N)\n",
      "Lower Right (     378.750,     -88.767) (Invalid angle, 88d46' 1.64\"S)\n",
      "Center      (     198.750,       1.233) (198d45' 0.00\"E,  1d13'58.36\"N)\n",
      "Band 1 Block=144x14 Type=Float32, ColorInterp=Gray\n",
      "  Description = blabla\n",
      "    Computed Min/Max=-17.149,13.973\n",
      "  NoData Value=-10000000000\n",
      "  Metadata:\n",
      "    key2=BBBBB\n",
      "    name=AAAAAA\n"
     ]
    }
   ],
   "source": [
    "# Check with\n",
    "! gdalinfo -mm uwnd.tiff"
   ]
  },
  {
   "cell_type": "code",
   "execution_count": null,
   "metadata": {},
   "outputs": [],
   "source": []
  }
 ],
 "metadata": {
  "kernelspec": {
   "display_name": "Python 2",
   "language": "python",
   "name": "python2"
  },
  "language_info": {
   "codemirror_mode": {
    "name": "ipython",
    "version": 2
   },
   "file_extension": ".py",
   "mimetype": "text/x-python",
   "name": "python",
   "nbconvert_exporter": "python",
   "pygments_lexer": "ipython2",
   "version": "2.7.14"
  }
 },
 "nbformat": 4,
 "nbformat_minor": 2
}
