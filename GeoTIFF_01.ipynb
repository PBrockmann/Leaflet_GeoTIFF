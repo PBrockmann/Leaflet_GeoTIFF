{
 "cells": [
  {
   "cell_type": "markdown",
   "metadata": {},
   "source": [
    "#### Test on convert a netCDF file to a GeoTIFF"
   ]
  },
  {
   "cell_type": "markdown",
   "metadata": {
    "collapsed": true
   },
   "source": [
    "#### To test then in a Leaflet map\n",
    "\n",
    " * https://github.com/stuartmatthews/leaflet-geotiff\n",
    " * https://mygeodata.cloud/converter/"
   ]
  },
  {
   "cell_type": "code",
   "execution_count": 17,
   "metadata": {},
   "outputs": [],
   "source": [
    "import numpy as np\n",
    "import netCDF4\n",
    "from osgeo import osr\n",
    "from osgeo import gdal"
   ]
  },
  {
   "cell_type": "code",
   "execution_count": 18,
   "metadata": {},
   "outputs": [
    {
     "data": {
      "text/plain": [
       "True"
      ]
     },
     "execution_count": 18,
     "metadata": {},
     "output_type": "execute_result"
    }
   ],
   "source": [
    "# \n",
    "import os\n",
    "'GDAL_DATA' in os.environ "
   ]
  },
  {
   "cell_type": "code",
   "execution_count": 19,
   "metadata": {},
   "outputs": [
    {
     "data": {
      "text/plain": [
       "[u'XAXLEVITR', u'YAXLEVITR', u'ZAXLEVITR1_1', u'ZAXLEVITR1_1_bnds', u'TEMP']"
      ]
     },
     "execution_count": 19,
     "metadata": {},
     "output_type": "execute_result"
    }
   ],
   "source": [
    "# temp.nc has been produced from levitus_climatology with ferret\n",
    "# yes? use levitus_climatology\n",
    "# yes? save/clobber/file=temp.nc temp[k=1]\n",
    "\n",
    "infile = 'temp.nc'\n",
    "\n",
    "ncfile = netCDF4.Dataset(infile, 'r')\n",
    "ncfile.variables.keys()"
   ]
  },
  {
   "cell_type": "code",
   "execution_count": 20,
   "metadata": {},
   "outputs": [
    {
     "data": {
      "text/plain": [
       "[u'XAXLEVITR', u'YAXLEVITR', u'ZAXLEVITR1_1', u'bnds']"
      ]
     },
     "execution_count": 20,
     "metadata": {},
     "output_type": "execute_result"
    }
   ],
   "source": [
    "dims = ncfile.dimensions.keys()\n",
    "dims"
   ]
  },
  {
   "cell_type": "code",
   "execution_count": 21,
   "metadata": {},
   "outputs": [
    {
     "name": "stdout",
     "output_type": "stream",
     "text": [
      "(180, 360)\n"
     ]
    }
   ],
   "source": [
    "lon = ncfile.variables[dims[0]][:]\n",
    "lat = ncfile.variables[dims[1]][:]\n",
    "var = ncfile.variables['TEMP'][0][:]\n",
    "\n",
    "print var.shape"
   ]
  },
  {
   "cell_type": "code",
   "execution_count": 22,
   "metadata": {},
   "outputs": [
    {
     "name": "stdout",
     "output_type": "stream",
     "text": [
      "180 360\n",
      "20.0 380.0 -90.0 90.0\n",
      "1.0 1.0\n"
     ]
    }
   ],
   "source": [
    "nrows,ncols = np.shape(var)\n",
    "xres = 360./ncols\n",
    "yres = 180./nrows\n",
    "\n",
    "# Retrieve edges considering regular axis\n",
    "xmin,xmax,ymin,ymax = [lon[0]-xres/2,lon[-1]+xres/2,lat[0]-yres/2,lat[-1]+yres/2]\n",
    "\n",
    "print nrows,ncols\n",
    "print xmin,xmax,ymin,ymax\n",
    "print xres, yres"
   ]
  },
  {
   "cell_type": "code",
   "execution_count": 24,
   "metadata": {},
   "outputs": [],
   "source": [
    "# https://stackoverflow.com/questions/43254024/extracting-specific-netcdf-info-and-converting-to-geotiff-in-python"
   ]
  },
  {
   "cell_type": "code",
   "execution_count": 37,
   "metadata": {},
   "outputs": [],
   "source": [
    "outfile = 'temp.tif'\n",
    "\n",
    "driver = gdal.GetDriverByName('GTiff')\n",
    "\n",
    "dst_ds = driver.Create(outfile, ncols, nrows, \n",
    "                       bands=1, eType=gdal.GDT_Float32, options=['COMPRESS=LZW'])\n",
    "\n",
    "geotransform=(xmin,xres,0,ymax,0,-yres)   \n",
    "# That's (top left x, w-e pixel resolution, rotation (0 if North is up), \n",
    "#         top left y, rotation (0 if North is up), n-s pixel resolution)\n",
    "\n",
    "dst_ds.SetGeoTransform(geotransform)     # specify coords\n",
    "srs = osr.SpatialReference()             # establish encoding\n",
    "srs.ImportFromEPSG(4326)                 # WGS84 lat/long\n",
    "dst_ds.SetProjection(srs.ExportToWkt())   # export coords to file\n",
    "\n",
    "dst_ds.SetMetadata({'key1': '1', 'key2': 'yada'})\n",
    "\n",
    "band = dst_ds.GetRasterBand(1)\n",
    "band.WriteArray(var[::-1,:])            # reverse the array\n",
    "\n",
    "band.SetDescription('blabla')\n",
    "band.SetMetadata({'name': 'AAAAAA', 'key2': 'BBBBB'})\n",
    "band.SetNoDataValue(-1E10)\n",
    "                \n",
    "# Close properly the dataset\n",
    "dst_ds = None"
   ]
  },
  {
   "cell_type": "code",
   "execution_count": 26,
   "metadata": {},
   "outputs": [
    {
     "name": "stdout",
     "output_type": "stream",
     "text": [
      "GEOGCS[\"WGS 84\",\n",
      "    DATUM[\"WGS_1984\",\n",
      "        SPHEROID[\"WGS 84\",6378137,298.257223563,\n",
      "            AUTHORITY[\"EPSG\",\"7030\"]],\n",
      "        AUTHORITY[\"EPSG\",\"6326\"]],\n",
      "    PRIMEM[\"Greenwich\",0,\n",
      "        AUTHORITY[\"EPSG\",\"8901\"]],\n",
      "    UNIT[\"degree\",0.0174532925199433,\n",
      "        AUTHORITY[\"EPSG\",\"9122\"]],\n",
      "    AUTHORITY[\"EPSG\",\"4326\"]]\n"
     ]
    }
   ],
   "source": [
    "test1 = osr.SpatialReference()\n",
    "test1.ImportFromEPSG(4326)\n",
    "\n",
    "print test1.ExportToPrettyWkt()"
   ]
  },
  {
   "cell_type": "code",
   "execution_count": 29,
   "metadata": {},
   "outputs": [
    {
     "name": "stdout",
     "output_type": "stream",
     "text": [
      "Driver: GTiff/GeoTIFF\r\n",
      "Files: temp.tif\r\n",
      "Size is 360, 180\r\n",
      "Coordinate System is:\r\n",
      "GEOGCS[\"WGS 84\",\r\n",
      "    DATUM[\"WGS_1984\",\r\n",
      "        SPHEROID[\"WGS 84\",6378137,298.257223563,\r\n",
      "            AUTHORITY[\"EPSG\",\"7030\"]],\r\n",
      "        AUTHORITY[\"EPSG\",\"6326\"]],\r\n",
      "    PRIMEM[\"Greenwich\",0],\r\n",
      "    UNIT[\"degree\",0.0174532925199433],\r\n",
      "    AUTHORITY[\"EPSG\",\"4326\"]]\r\n",
      "Origin = (20.000000000000000,90.000000000000000)\r\n",
      "Pixel Size = (1.000000000000000,-1.000000000000000)\r\n",
      "Metadata:\r\n",
      "  AREA_OR_POINT=Area\r\n",
      "  key1=1\r\n",
      "  key2=yada\r\n",
      "Image Structure Metadata:\r\n",
      "  COMPRESSION=LZW\r\n",
      "  INTERLEAVE=BAND\r\n",
      "Corner Coordinates:\r\n",
      "Upper Left  (  20.0000000,  90.0000000) ( 20d 0' 0.00\"E, 90d 0' 0.00\"N)\r\n",
      "Lower Left  (  20.0000000, -90.0000000) ( 20d 0' 0.00\"E, 90d 0' 0.00\"S)\r\n",
      "Upper Right (     380.000,      90.000) (Invalid angle, 90d 0' 0.00\"N)\r\n",
      "Lower Right (     380.000,     -90.000) (Invalid angle, 90d 0' 0.00\"S)\r\n",
      "Center      (     200.000,       0.000) (200d 0' 0.00\"E,  0d 0' 0.01\"N)\r\n",
      "Band 1 Block=360x5 Type=Float32, ColorInterp=Gray\r\n",
      "  Description = blabla\r\n",
      "    Computed Min/Max=-2.020,29.740\r\n",
      "  NoData Value=-10000000000\r\n",
      "  Metadata:\r\n",
      "    key2=BBBBB\r\n",
      "    name=AAAAAA\r\n"
     ]
    }
   ],
   "source": [
    "# Check with\n",
    "! gdalinfo -mm temp.tif"
   ]
  },
  {
   "cell_type": "code",
   "execution_count": null,
   "metadata": {},
   "outputs": [],
   "source": []
  }
 ],
 "metadata": {
  "kernelspec": {
   "display_name": "Python 2",
   "language": "python",
   "name": "python2"
  },
  "language_info": {
   "codemirror_mode": {
    "name": "ipython",
    "version": 2
   },
   "file_extension": ".py",
   "mimetype": "text/x-python",
   "name": "python",
   "nbconvert_exporter": "python",
   "pygments_lexer": "ipython2",
   "version": "2.7.14"
  }
 },
 "nbformat": 4,
 "nbformat_minor": 2
}
